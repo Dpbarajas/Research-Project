{
 "cells": [
  {
   "cell_type": "markdown",
   "metadata": {},
   "source": [
    "# Game of Life\n",
    "\n",
    "Code examples from [Think Complexity, 2nd edition](https://thinkcomplex.com).\n",
    "\n",
    "Copyright 2016 Allen Downey, [MIT License](http://opensource.org/licenses/MIT)"
   ]
  },
  {
   "cell_type": "code",
   "execution_count": 1,
   "metadata": {},
   "outputs": [],
   "source": [
    "# from os.path import basename, exists\n",
    "\n",
    "# def download(url):\n",
    "#     filename = basename(url)\n",
    "#     if not exists(filename):\n",
    "#         from urllib.request import urlretrieve\n",
    "#         local, _ = urlretrieve(url, filename)\n",
    "#         print('Downloaded ' + local)\n",
    "    \n",
    "# download('https://github.com/AllenDowney/ThinkComplexity2/raw/master/notebooks/utils.py')"
   ]
  },
  {
   "cell_type": "code",
   "execution_count": 2,
   "metadata": {},
   "outputs": [],
   "source": [
    "import matplotlib.pyplot as plt\n",
    "import numpy as np"
   ]
  },
  {
   "cell_type": "code",
   "execution_count": 3,
   "metadata": {},
   "outputs": [],
   "source": [
    "from utils import savefig\n",
    "# make a directory for figures\n",
    "!mkdir -p figs"
   ]
  },
  {
   "cell_type": "markdown",
   "metadata": {},
   "source": [
    "## Game of Life entities\n",
    "\n"
   ]
  },
  {
   "cell_type": "code",
   "execution_count": 4,
   "metadata": {},
   "outputs": [],
   "source": [
    "download('https://github.com/AllenDowney/ThinkComplexity2/raw/master/notebooks/Cell2D.py')"
   ]
  },
  {
   "cell_type": "code",
   "execution_count": 14,
   "metadata": {},
   "outputs": [
    {
     "data": {
      "image/png": "[encoded data removed]",
      "text/plain": [
       "<Figure size 432x288 with 1 Axes>"
      ]
     },
     "metadata": {},
     "output_type": "display_data"
    }
   ],
   "source": [
    "from scipy.signal import correlate2d\n",
    "from Cell2D import Cell2D\n",
    "\n",
    "class Life2(Cell2D):\n",
    "    \"\"\"Implementation of Martin Skrodzki´s Reaction.\"\"\"        \n",
    "    def __init__(self, n):\n",
    "        self.n = n\n",
    "        self.array = np.random.randint(2, size=(n, n), dtype=np.uint8)\n",
    "        \n",
    "#         self.array = np.zeros((n,n));\n",
    "#         self.add_cells(10,10, '1111111111', '1111111111', '1111111111')\n",
    "        \n",
    "        self.options = dict(mode='same', boundary='wrap')        \n",
    "        \n",
    "        self.kernel = -np.ones((5,5))\n",
    "        self.kernel[1:4, 1:4] = 1\n",
    "#         self.kernel[2,2] = 0\n",
    "        \n",
    "        self.order_kernel = np.zeros((3,3))\n",
    "        self.order_kernel[(0,1), (1,0)] = 1\n",
    "        self.order_kernel[(1,2), (2,1)] = 1\n",
    "        \n",
    "        self.order_parameter = np.sum(self.array * correlate2d(self.array, self.order_kernel, **self.options)) / (4*self.n**2)\n",
    "        self.order_list = [self.order_parameter]\n",
    "    \n",
    "    def step(self):\n",
    "        update_rule = correlate2d(self.array, self.kernel, **self.options)\n",
    "        self.array = (update_rule > 0).astype(np.uint8)         \n",
    "        \n",
    "        self.order_parameter = np.sum(self.array * correlate2d(self.array, self.order_kernel, **self.options)) / (4*self.n**2)\n",
    "        self.order_list.append(self.order_parameter)\n",
    "                \n",
    "a = Life2(100)\n",
    "\n",
    "# a.loop(100)\n",
    "\n",
    "# print(a.order_list)\n",
    "# plt.plot(a.order_list)\n",
    "# plt.show()\n",
    "\n",
    "a.animate(100, 0.1)"
   ]
  },
  {
   "cell_type": "markdown",
   "metadata": {},
   "source": [
    "The following function creates a `Life` object and sets the initial condition using strings of `0` and `1` characters."
   ]
  },
  {
   "cell_type": "code",
   "execution_count": 10,
   "metadata": {},
   "outputs": [],
   "source": [
    "def make_life(n, m, row, col, *strings):\n",
    "    \"\"\"Makes a Life object.\n",
    "    \n",
    "    n, m: rows and columns of the Life array\n",
    "    row, col: upper left coordinate of the cells to be added\n",
    "    strings: list of strings of '0' and '1'\n",
    "    \"\"\"\n",
    "    life = Life(n, m)\n",
    "    life.add_cells(row, col, *strings)\n",
    "    return life"
   ]
  }
 ],
 "metadata": {
  "kernelspec": {
   "display_name": "Python 3",
   "language": "python",
   "name": "python3"
  },
  "language_info": {
   "codemirror_mode": {
    "name": "ipython",
    "version": 3
   },
   "file_extension": ".py",
   "mimetype": "text/x-python",
   "name": "python",
   "nbconvert_exporter": "python",
   "pygments_lexer": "ipython3",
   "version": "3.8.5"
  }
 },
 "nbformat": 4,
 "nbformat_minor": 2
}
