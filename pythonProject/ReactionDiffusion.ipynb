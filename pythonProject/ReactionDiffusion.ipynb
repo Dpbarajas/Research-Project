{
 "cells": [
  {
   "cell_type": "markdown",
   "metadata": {},
   "source": [
    "# Game of Life\n",
    "\n",
    "Code examples from [Think Complexity, 2nd edition](https://thinkcomplex.com).\n",
    "\n",
    "Copyright 2016 Allen Downey, [MIT License](http://opensource.org/licenses/MIT)"
   ]
  },
  {
   "cell_type": "code",
   "execution_count": 2,
   "metadata": {},
   "outputs": [],
   "source": [
    "# from os.path import basename, exists\n",
    "\n",
    "# def download(url):\n",
    "#     filename = basename(url)\n",
    "#     if not exists(filename):\n",
    "#         from urllib.request import urlretrieve\n",
    "#         local, _ = urlretrieve(url, filename)\n",
    "#         print('Downloaded ' + local)\n",
    "    \n",
    "# download('https://github.com/AllenDowney/ThinkComplexity2/raw/master/notebooks/utils.py')"
   ]
  },
  {
   "cell_type": "code",
   "execution_count": 3,
   "metadata": {},
   "outputs": [],
   "source": [
    "import matplotlib.pyplot as plt\n",
    "import numpy as np"
   ]
  },
  {
   "cell_type": "code",
   "execution_count": 4,
   "metadata": {},
   "outputs": [
    {
     "name": "stderr",
     "output_type": "stream",
     "text": [
      "A subdirectory or file -p already exists.\n",
      "Error occurred while processing: -p.\n",
      "A subdirectory or file figs already exists.\n",
      "Error occurred while processing: figs.\n"
     ]
    }
   ],
   "source": [
    "from utils import savefig\n",
    "# make a directory for figures\n",
    "!mkdir -p figs"
   ]
  },
  {
   "cell_type": "code",
   "execution_count": 5,
   "metadata": {
    "scrolled": true
   },
   "outputs": [
    {
     "ename": "NameError",
     "evalue": "name 'download' is not defined",
     "output_type": "error",
     "traceback": [
      "\u001b[1;31m---------------------------------------------------------------------------\u001b[0m",
      "\u001b[1;31mNameError\u001b[0m                                 Traceback (most recent call last)",
      "\u001b[1;32m<ipython-input-5-c6a176e2cc56>\u001b[0m in \u001b[0;36m<module>\u001b[1;34m\u001b[0m\n\u001b[1;32m----> 1\u001b[1;33m \u001b[0mdownload\u001b[0m\u001b[1;33m(\u001b[0m\u001b[1;34m'https://github.com/AllenDowney/ThinkComplexity2/raw/master/notebooks/Cell2D.py'\u001b[0m\u001b[1;33m)\u001b[0m\u001b[1;33m\u001b[0m\u001b[1;33m\u001b[0m\u001b[0m\n\u001b[0m",
      "\u001b[1;31mNameError\u001b[0m: name 'download' is not defined"
     ]
    }
   ],
   "source": [
    "download('https://github.com/AllenDowney/ThinkComplexity2/raw/master/notebooks/Cell2D.py')"
   ]
  },
  {
   "cell_type": "markdown",
   "metadata": {},
   "source": [
    "## 2D Cellular Automaton\n",
    "\n"
   ]
  },
  {
   "cell_type": "code",
   "execution_count": 47,
   "metadata": {},
   "outputs": [
    {
     "data": {
      "text/plain": [
       "[(4, 6), (5, 7), (7, 10), (10, 14), (12, 17), (17, 24)]"
      ]
     },
     "execution_count": 47,
     "metadata": {},
     "output_type": "execute_result"
    }
   ],
   "source": [
    "def possible_radii(n):\n",
    "    returner = []\n",
    "    for i in range(4, 30):\n",
    "        for j in range(i+1, 30):\n",
    "            if np.abs(j**2 - 2 * i**2) < n:\n",
    "                returner.append((i, j))\n",
    "                \n",
    "    return returner\n",
    "\n",
    "possible_radii(5)"
   ]
  },
  {
   "cell_type": "code",
   "execution_count": 73,
   "metadata": {},
   "outputs": [
    {
     "data": {
      "text/plain": [
       "array([[0, 0, 0, 0, 0, 0, 0, 0, 0, 0, 0],\n",
       "       [0, 0, 0, 0, 0, 1, 0, 0, 0, 0, 0],\n",
       "       [0, 0, 0, 1, 1, 1, 1, 1, 0, 0, 0],\n",
       "       [0, 0, 1, 1, 1, 1, 1, 1, 1, 0, 0],\n",
       "       [0, 0, 1, 1, 1, 1, 1, 1, 1, 0, 0],\n",
       "       [0, 1, 1, 1, 1, 1, 1, 1, 1, 1, 0],\n",
       "       [0, 0, 1, 1, 1, 1, 1, 1, 1, 0, 0],\n",
       "       [0, 0, 1, 1, 1, 1, 1, 1, 1, 0, 0],\n",
       "       [0, 0, 0, 1, 1, 1, 1, 1, 0, 0, 0],\n",
       "       [0, 0, 0, 0, 0, 1, 0, 0, 0, 0, 0],\n",
       "       [0, 0, 0, 0, 0, 0, 0, 0, 0, 0, 0]])"
      ]
     },
     "execution_count": 73,
     "metadata": {},
     "output_type": "execute_result"
    }
   ],
   "source": [
    "def kernel_creator(r_i, r_o, model=True):\n",
    "    array = []\n",
    "    item = 0\n",
    "    x_i = np.floor((2 * r_o + 1)/2)\n",
    "    y_i = np.floor((2 * r_o + 1)/2)\n",
    "    for x in range(2 * r_o + 1):\n",
    "        array.append([])\n",
    "        for y in range(2 * r_o + 1):\n",
    "            sqr = (x - x_i)**2 + (y - y_i)**2\n",
    "            if (sqr <= r_i**2): item = 1\n",
    "            elif (sqr <= r_o**2): item = -1 if model else 0\n",
    "            else: item = 0\n",
    "            \n",
    "            array[x].append(item)\n",
    "            \n",
    "    return np.array(array)\n",
    "\n",
    "kernel_creator(4,5, False)"
   ]
  },
  {
   "cell_type": "code",
   "execution_count": 86,
   "metadata": {
    "scrolled": true
   },
   "outputs": [
    {
     "data": {
      "text/plain": [
       "array([[0, 0, 0, 0, 0, 0, 0, 0, 0, 0, 0, 0, 0],\n",
       "       [0, 0, 0, 0, 0, 0, 0, 0, 0, 0, 0, 0, 0],\n",
       "       [0, 0, 0, 0, 0, 0, 1, 0, 0, 0, 0, 0, 0],\n",
       "       [0, 0, 0, 0, 1, 1, 1, 1, 1, 0, 0, 0, 0],\n",
       "       [0, 0, 0, 1, 1, 1, 1, 1, 1, 1, 0, 0, 0],\n",
       "       [0, 0, 0, 1, 1, 1, 1, 1, 1, 1, 0, 0, 0],\n",
       "       [0, 0, 1, 1, 1, 1, 1, 1, 1, 1, 1, 0, 0],\n",
       "       [0, 0, 0, 1, 1, 1, 1, 1, 1, 1, 0, 0, 0],\n",
       "       [0, 0, 0, 1, 1, 1, 1, 1, 1, 1, 0, 0, 0],\n",
       "       [0, 0, 0, 0, 1, 1, 1, 1, 1, 0, 0, 0, 0],\n",
       "       [0, 0, 0, 0, 0, 0, 1, 0, 0, 0, 0, 0, 0],\n",
       "       [0, 0, 0, 0, 0, 0, 0, 0, 0, 0, 0, 0, 0],\n",
       "       [0, 0, 0, 0, 0, 0, 0, 0, 0, 0, 0, 0, 0]])"
      ]
     },
     "execution_count": 86,
     "metadata": {},
     "output_type": "execute_result"
    }
   ],
   "source": [
    "from scipy.signal import correlate2d\n",
    "from Cell2D import Cell2D\n",
    "\n",
    "class ReactionDiffusion(Cell2D):\n",
    "    \"\"\"Implementation of Martin Skrodzki´s Reaction.\"\"\"        \n",
    "    def __init__(self, n, r_i, r_o, random = True, static_neighbours=True):\n",
    "        self.n = n\n",
    "        self.r_i = r_i\n",
    "        self.r_o = r_o\n",
    "        self.options = dict(mode='same', boundary='wrap')        \n",
    "        \n",
    "        if random: self.array = np.random.randint(2, size=(n, n), dtype=np.uint8)\n",
    "        else:\n",
    "            self.array = np.zeros((n,n));\n",
    "            self.add_cells(10,10, '1111111111', '1111111111', '1111111111')\n",
    "        \n",
    "        self.order_array = (self.array - 0.5) * 2\n",
    "        \n",
    "        self.kernel = kernel_creator(r_i, r_o)\n",
    "        \n",
    "        if static_neighbours:\n",
    "            self.order_kernel = np.zeros((3,3))\n",
    "            self.order_kernel[(0,1), (1,0)] = 1\n",
    "            self.order_kernel[(1,2), (2,1)] = 1      \n",
    "        else:\n",
    "            self.order_kernel = kernel_creator(r_i, r_o, False)\n",
    "        \n",
    "        self.order_parameter = (np.sum(self.order_array * correlate2d(self.order_array, self.order_kernel, **self.options)) - 0.5) / (4*self.n**2)\n",
    "        self.order_list = [self.order_parameter]\n",
    "    \n",
    "    def step(self):\n",
    "        update_rule = correlate2d(self.array, self.kernel, mode='same', boundary='wrap')\n",
    "        self.array = (update_rule > 0).astype(np.uint8) \n",
    "        self.order_array = (self.array - 0.5) * 2\n",
    "        \n",
    "        self.order_parameter = np.sum(self.array * correlate2d(self.array, self.order_kernel, **self.options)) / (4*self.n**2)\n",
    "        self.order_list.append(self.order_parameter)\n",
    "\n",
    "a = ReactionDiffusion(100, 4, 6, True, False)\n",
    "a.order_kernel"
   ]
  },
  {
   "cell_type": "code",
   "execution_count": 87,
   "metadata": {},
   "outputs": [
    {
     "data": {
      "image/png": "[encoded data removed]",
      "text/plain": [
       "<Figure size 432x288 with 1 Axes>"
      ]
     },
     "metadata": {},
     "output_type": "display_data"
    },
    {
     "name": "stderr",
     "output_type": "stream",
     "text": [
      "<ipython-input-87-063af810941f>:16: MatplotlibDeprecationWarning: Adding an axes using the same arguments as a previous axes currently reuses the earlier instance.  In a future version, a new instance will always be created and returned.  Meanwhile, this warning can be suppressed, and the future behavior ensured, by passing a unique label to each axes instance.\n",
      "  ax = plt.axes()\n"
     ]
    },
    {
     "data": {
      "image/png": "[encoded data removed]",
      "text/plain": [
       "<Figure size 432x288 with 1 Axes>"
      ]
     },
     "metadata": {
      "needs_background": "light"
     },
     "output_type": "display_data"
    }
   ],
   "source": [
    "possible_radi = 0   \n",
    "possible_radi = possible_radii(5)\n",
    "\n",
    "list_of_orders = []\n",
    "legend = []\n",
    "\n",
    "for i, (r_i, r_o) in enumerate(possible_radi):\n",
    "    a = ReactionDiffusion(100, r_i, r_o, True)\n",
    "    a.animate(50, 0.01)\n",
    "    list_of_orders.append(a.order_list)\n",
    "    legend.append(\"r_i: \" + str(a.r_i) + \"; r_o: \" + str(a.r_o))\n",
    "#     savefig('figs/cell' + str(r_i) + str(r_o))\n",
    "    \n",
    "for i in list_of_orders:\n",
    "    plt.plot(i)\n",
    "ax = plt.axes()\n",
    "ax.set(ylim=(0, 1))\n",
    "plt.legend(legend, loc='upper right')\n",
    "plt.show()\n",
    "    \n",
    "# savefig('figs/ordparrandom' + str(r_i) + str(r_o))"
   ]
  },
  {
   "cell_type": "code",
   "execution_count": 85,
   "metadata": {
    "scrolled": true
   },
   "outputs": [
    {
     "name": "stdout",
     "output_type": "stream",
     "text": [
      "[(4, 6), (5, 7), (7, 10), (10, 14), (12, 17), (17, 24)]\n"
     ]
    }
   ],
   "source": [
    "possible_radi = 0   \n",
    "possible_radi = possible_radii(5)\n",
    "\n",
    "print(possible_radi)\n",
    "list_of_orders = []\n",
    "for i, (r_i, r_o) in enumerate([possible_radi[-1]]):\n",
    "    a = ReactionDiffusion(100, r_i, r_o, False)\n",
    "    a.animate(50, 0.01)\n",
    "#     savefig('figs/cell' + str(r_i) + str(r_o))\n",
    "    plt.plot(a.order_list)\n",
    "    savefig('figs/ordparsegr' + str(r_i) + str(r_o))"
   ]
  },
  {
   "cell_type": "code",
   "execution_count": 61,
   "metadata": {},
   "outputs": [
    {
     "data": {
      "image/png": "[encoded data removed]",
      "text/plain": [
       "<Figure size 432x288 with 1 Axes>"
      ]
     },
     "metadata": {},
     "output_type": "display_data"
    },
    {
     "data": {
      "image/png": "[encoded data removed]",
      "text/plain": [
       "<Figure size 432x288 with 1 Axes>"
      ]
     },
     "metadata": {
      "needs_background": "light"
     },
     "output_type": "display_data"
    }
   ],
   "source": [
    "possible_radi = possible_radii(5)\n",
    "\n",
    "list_of_orders = []\n",
    "for i, (r_i, r_o) in enumerate(possible_radi[1:2]):\n",
    "    for i in range(10):\n",
    "        a = ReactionDiffusion(100, r_i, r_o, True)\n",
    "        a.animate(50, 0.01)\n",
    "#     savefig('figs/cell' + str(r_i) + str(r_o))\n",
    "        legend.append(str(i))\n",
    "        plt.plot(a.order_list)\n",
    "#     savefig('figs/ordparsegr' + str(r_i) + str(r_o))\n",
    "    plt.show()"
   ]
  },
  {
   "cell_type": "markdown",
   "metadata": {},
   "source": [
    "The following function creates a `Life` object and sets the initial condition using strings of `0` and `1` characters."
   ]
  },
  {
   "cell_type": "code",
   "execution_count": 7,
   "metadata": {},
   "outputs": [],
   "source": [
    "def make_life(n, m, row, col, *strings):\n",
    "    \"\"\"Makes a Life object.\n",
    "    \n",
    "    n, m: rows and columns of the Life array\n",
    "    row, col: upper left coordinate of the cells to be added\n",
    "    strings: list of strings of '0' and '1'\n",
    "    \"\"\"\n",
    "    life = Life(n, m)\n",
    "    life.add_cells(row, col, *strings)\n",
    "    return life"
   ]
  },
  {
   "cell_type": "code",
   "execution_count": 8,
   "metadata": {},
   "outputs": [
    {
     "name": "stdout",
     "output_type": "stream",
     "text": [
      "[[(2, 1), (2, 4), (2, 9), (2, 16), (2, 25), (2, 36), (2, 49), (2, 64), (2, 81)], [(8, 4), (8, 9), (8, 16), (8, 25), (8, 36), (8, 49), (8, 64), (8, 81)], [(18, 9), (18, 16), (18, 25), (18, 36), (18, 49), (18, 64), (18, 81)], [(32, 16), (32, 25), (32, 36), (32, 49), (32, 64), (32, 81)], [(50, 25), (50, 36), (50, 49), (50, 64), (50, 81)], [(72, 36), (72, 49), (72, 64), (72, 81)], [(98, 49), (98, 64), (98, 81)], [(128, 64), (128, 81)], [(162, 81)]]\n"
     ]
    }
   ],
   "source": [
    "list = []\n",
    "for i in range(1, 10):\n",
    "    list.append([])\n",
    "    for o in range (i, 10):\n",
    "        a = (2 * i**2, o**2)\n",
    "        list[i-1].append(a)\n",
    "        \n",
    "print(list)\n",
    "\n",
    "\n"
   ]
  },
  {
   "cell_type": "code",
   "execution_count": null,
   "metadata": {},
   "outputs": [],
   "source": []
  },
  {
   "cell_type": "code",
   "execution_count": null,
   "metadata": {},
   "outputs": [],
   "source": []
  }
 ],
 "metadata": {
  "kernelspec": {
   "display_name": "Python 3",
   "language": "python",
   "name": "python3"
  },
  "language_info": {
   "codemirror_mode": {
    "name": "ipython",
    "version": 3
   },
   "file_extension": ".py",
   "mimetype": "text/x-python",
   "name": "python",
   "nbconvert_exporter": "python",
   "pygments_lexer": "ipython3",
   "version": "3.8.5"
  }
 },
 "nbformat": 4,
 "nbformat_minor": 2
}
